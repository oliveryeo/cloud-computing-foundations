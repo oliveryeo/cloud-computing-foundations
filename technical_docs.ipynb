{
  "nbformat": 4,
  "nbformat_minor": 0,
  "metadata": {
    "colab": {
      "name": "technical-docs.ipynb",
      "provenance": [],
      "collapsed_sections": [],
      "authorship_tag": "ABX9TyP89Ujl1iWFCeL6EXnE7p05",
      "include_colab_link": true
    },
    "kernelspec": {
      "name": "python3",
      "display_name": "Python 3"
    },
    "language_info": {
      "name": "python"
    }
  },
  "cells": [
    {
      "cell_type": "markdown",
      "metadata": {
        "id": "view-in-github",
        "colab_type": "text"
      },
      "source": [
        "<a href=\"https://colab.research.google.com/github/oliveryjy/cloud-computing-foundations/blob/main/technical_docs.ipynb\" target=\"_parent\"><img src=\"https://colab.research.google.com/assets/colab-badge.svg\" alt=\"Open In Colab\"/></a>"
      ]
    },
    {
      "cell_type": "code",
      "execution_count": 1,
      "metadata": {
        "colab": {
          "base_uri": "https://localhost:8080/"
        },
        "id": "21gqwehDnVot",
        "outputId": "02c4bb16-cdc5-4028-f49c-d30b68e90210"
      },
      "outputs": [
        {
          "output_type": "stream",
          "name": "stdout",
          "text": [
            "hello world\n"
          ]
        }
      ],
      "source": [
        "print(\"hello world\")"
      ]
    },
    {
      "cell_type": "code",
      "source": [
        "def hello():\n",
        "  return \"hi\"\n",
        "\n",
        "hello()"
      ],
      "metadata": {
        "colab": {
          "base_uri": "https://localhost:8080/",
          "height": 35
        },
        "id": "271-gVPHnerd",
        "outputId": "a7120f6c-4fb6-493f-beef-234ab0a30675"
      },
      "execution_count": 2,
      "outputs": [
        {
          "output_type": "execute_result",
          "data": {
            "text/plain": [
              "'hi'"
            ],
            "application/vnd.google.colaboratory.intrinsic+json": {
              "type": "string"
            }
          },
          "metadata": {},
          "execution_count": 2
        }
      ]
    },
    {
      "cell_type": "markdown",
      "source": [
        "## EDA"
      ],
      "metadata": {
        "id": "Jj2RrfUdnsdM"
      }
    },
    {
      "cell_type": "code",
      "source": [],
      "metadata": {
        "id": "ci9HqDFUntrm"
      },
      "execution_count": null,
      "outputs": []
    },
    {
      "cell_type": "markdown",
      "source": [
        "### Markdown heading testing\n",
        "* one\n",
        "* two\n",
        "* three"
      ],
      "metadata": {
        "id": "YGd85sYan1Z9"
      }
    },
    {
      "cell_type": "markdown",
      "source": [
        "## Modelling"
      ],
      "metadata": {
        "id": "VYOe-EtxnwZR"
      }
    },
    {
      "cell_type": "code",
      "source": [],
      "metadata": {
        "id": "0brr-hr8nxJV"
      },
      "execution_count": null,
      "outputs": []
    }
  ]
}